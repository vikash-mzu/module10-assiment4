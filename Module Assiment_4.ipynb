{
 "cells": [
  {
   "cell_type": "markdown",
   "id": "b50ec40d-2615-4f6b-9665-8548c420bb55",
   "metadata": {},
   "source": [
    "Q1. What is multiprocessing in Python? Why is it useful?"
   ]
  },
  {
   "cell_type": "code",
   "execution_count": 2,
   "id": "7bbb8672-4fe6-4c84-b937-2b2e02bb3203",
   "metadata": {},
   "outputs": [
    {
     "data": {
      "text/plain": [
       "\"\\nMultiprocessing in Python refers to the ability to execute multiple processes simultaneously. Each process runs in its own memory space, independent of others, allowing for true parallelism. This is particularly useful for CPU-bound tasks that can take advantage of multiple CPU cores, as opposed to multithreading where tasks share the same memory space and are subject to Python's Global Interpreter Lock (GIL).\\n\\nWhy is it useful?\\n\\nIt allows Python programs to utilize multiple CPU cores for parallel execution.\\nIt is more efficient than multithreading for CPU-bound tasks since processes run independently without the GIL.\\nIt is helpful for computationally expensive tasks like data analysis, machine learning, or any CPU-heavy operations.\\n\\n\""
      ]
     },
     "execution_count": 2,
     "metadata": {},
     "output_type": "execute_result"
    }
   ],
   "source": [
    "'''\n",
    "Multiprocessing in Python refers to the ability to execute multiple processes simultaneously. Each process runs in its own memory space, independent of others, allowing for true parallelism. This is particularly useful for CPU-bound tasks that can take advantage of multiple CPU cores, as opposed to multithreading where tasks share the same memory space and are subject to Python's Global Interpreter Lock (GIL).\n",
    "\n",
    "Why is it useful?\n",
    "\n",
    "It allows Python programs to utilize multiple CPU cores for parallel execution.\n",
    "It is more efficient than multithreading for CPU-bound tasks since processes run independently without the GIL.\n",
    "It is helpful for computationally expensive tasks like data analysis, machine learning, or any CPU-heavy operations.\n",
    "\n",
    "'''"
   ]
  },
  {
   "cell_type": "markdown",
   "id": "2006f03d-c545-45b6-bac8-6d6afdcbc2bf",
   "metadata": {},
   "source": [
    "Q2. What are the differences between multiprocessing and multithreading?"
   ]
  },
  {
   "cell_type": "code",
   "execution_count": 5,
   "id": "5f9c897b-1e8a-4648-b0ca-86f65cb8e407",
   "metadata": {},
   "outputs": [
    {
     "data": {
      "text/plain": [
       "'\\n\\nFeature\\tMultiprocessing\\tMultithreading\\nMemory\\tEach process has its own memory space.\\tThreads share the same memory space.\\nParallelism\\tTrue parallelism on multiple CPU cores.\\tConcurrency but not true parallelism (due to GIL).\\nBest for\\tCPU-bound tasks (e.g., computation-heavy tasks)\\tI/O-bound tasks (e.g., file handling, network calls)\\nInterference\\tProcesses are independent, less interference.\\tThreads share resources, leading to possible interference (race conditions).\\nGlobal Interpreter Lock\\tNot affected by the GIL.\\tAffected by the GIL, limiting execution to one thread at a time.\\nOverhead\\tMore overhead due to process creation and context switching.\\tLess overhead compared to multiprocessing.\\n'"
      ]
     },
     "execution_count": 5,
     "metadata": {},
     "output_type": "execute_result"
    }
   ],
   "source": [
    "'''\n",
    "\n",
    "Feature\tMultiprocessing\tMultithreading\n",
    "Memory\tEach process has its own memory space.\tThreads share the same memory space.\n",
    "Parallelism\tTrue parallelism on multiple CPU cores.\tConcurrency but not true parallelism (due to GIL).\n",
    "Best for\tCPU-bound tasks (e.g., computation-heavy tasks)\tI/O-bound tasks (e.g., file handling, network calls)\n",
    "Interference\tProcesses are independent, less interference.\tThreads share resources, leading to possible interference (race conditions).\n",
    "Global Interpreter Lock\tNot affected by the GIL.\tAffected by the GIL, limiting execution to one thread at a time.\n",
    "Overhead\tMore overhead due to process creation and context switching.\tLess overhead compared to multiprocessing.\n",
    "'''"
   ]
  },
  {
   "cell_type": "markdown",
   "id": "afc3e3b1-cdeb-4acc-b477-c133a8dd060c",
   "metadata": {},
   "source": [
    "Q3. Write a Python code to create a process using the multiprocessing module."
   ]
  },
  {
   "cell_type": "code",
   "execution_count": 8,
   "id": "4d4d759c-4e5b-4542-b8cf-86d53f1234a2",
   "metadata": {},
   "outputs": [
    {
     "name": "stdout",
     "output_type": "stream",
     "text": [
      "Process finished\n"
     ]
    }
   ],
   "source": [
    "import multiprocessing\n",
    "\n",
    "def print_numbers():\n",
    "    for i in range(5):\n",
    "        print(f\"Number: {i}\")\n",
    "\n",
    "if __name__ == '__main__':\n",
    "    # Create a process\n",
    "    process = multiprocessing.Process(target=print_numbers)\n",
    "    \n",
    "    # Start the process\n",
    "    process.start()\n",
    "    \n",
    "    # Wait for the process to complete\n",
    "    process.join()\n",
    "    \n",
    "    print(\"Process finished\")\n"
   ]
  },
  {
   "cell_type": "markdown",
   "id": "3cb8bec2-4fb9-479f-af07-ef00059617cb",
   "metadata": {},
   "source": [
    "Q4. What is a multiprocessing pool in Python? Why is it used?"
   ]
  },
  {
   "cell_type": "code",
   "execution_count": 11,
   "id": "1cf440c1-85de-4f89-a8b7-70abc28d9128",
   "metadata": {},
   "outputs": [
    {
     "data": {
      "text/plain": [
       "'\\nA multiprocessing pool in Python is a way to manage a pool of worker processes, allowing you to distribute tasks (or chunks of a task) among multiple processes efficiently. It helps by:\\n\\nAutomatically managing the distribution of tasks to processes.\\nSimplifying parallel execution for multiple tasks.\\nProviding convenience methods like map, apply, apply_async, etc., to parallelize function execution.\\nWhy is it used?\\n\\nTo efficiently distribute work among multiple processes.\\nTo parallelize the execution of functions across multiple data points without manually managing each process.\\n'"
      ]
     },
     "execution_count": 11,
     "metadata": {},
     "output_type": "execute_result"
    }
   ],
   "source": [
    "'''\n",
    "A multiprocessing pool in Python is a way to manage a pool of worker processes, allowing you to distribute tasks (or chunks of a task) among multiple processes efficiently. It helps by:\n",
    "\n",
    "Automatically managing the distribution of tasks to processes.\n",
    "Simplifying parallel execution for multiple tasks.\n",
    "Providing convenience methods like map, apply, apply_async, etc., to parallelize function execution.\n",
    "Why is it used?\n",
    "\n",
    "To efficiently distribute work among multiple processes.\n",
    "To parallelize the execution of functions across multiple data points without manually managing each process.\n",
    "'''"
   ]
  },
  {
   "cell_type": "markdown",
   "id": "f20de1ae-99f8-48f6-ae11-cc1f39a52806",
   "metadata": {},
   "source": [
    "Q5. How can we create a pool of worker processes in Python using the multiprocessing module?"
   ]
  },
  {
   "cell_type": "code",
   "execution_count": null,
   "id": "888cd05d-3e70-42d0-a6df-028d674298e3",
   "metadata": {},
   "outputs": [],
   "source": [
    "import multiprocessing\n",
    "\n",
    "def square(num):\n",
    "    return num * num\n",
    "\n",
    "if __name__ == '__main__':\n",
    "    # Create a pool of 4 worker processes\n",
    "    pool = multiprocessing.Pool(processes=4)\n",
    "    \n",
    "    # Distribute the work of calculating squares\n",
    "    numbers = [1, 2, 3, 4, 5]\n",
    "    results = pool.map(square, numbers)\n",
    "    \n",
    "    # Output the results\n",
    "    print(results)  # Output: [1, 4, 9, 16, 25]\n",
    "    \n",
    "    # Close the pool and wait for all the processes to finish\n",
    "    pool.close()\n",
    "    pool.join()\n"
   ]
  },
  {
   "cell_type": "code",
   "execution_count": null,
   "id": "cd341473-8faf-47ba-907e-870fab76cbb4",
   "metadata": {},
   "outputs": [],
   "source": []
  }
 ],
 "metadata": {
  "kernelspec": {
   "display_name": "Python 3 (ipykernel)",
   "language": "python",
   "name": "python3"
  },
  "language_info": {
   "codemirror_mode": {
    "name": "ipython",
    "version": 3
   },
   "file_extension": ".py",
   "mimetype": "text/x-python",
   "name": "python",
   "nbconvert_exporter": "python",
   "pygments_lexer": "ipython3",
   "version": "3.12.4"
  }
 },
 "nbformat": 4,
 "nbformat_minor": 5
}
